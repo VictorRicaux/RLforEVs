{
 "cells": [
  {
   "cell_type": "code",
   "execution_count": 1,
   "metadata": {},
   "outputs": [],
   "source": [
    "import numpy as np\n",
    "import pandas as pd\n",
    "from stable_baselines3 import DQN\n",
    "from stable_baselines3.common.env_checker import check_env\n",
    "from EVChargingEnv import EVChargingEnv"
   ]
  },
  {
   "cell_type": "code",
   "execution_count": 2,
   "metadata": {},
   "outputs": [
    {
     "name": "stdout",
     "output_type": "stream",
     "text": [
      "       Price  Usage_Prob\n",
      "0  39.900473    0.500000\n",
      "1  33.045343    0.550419\n",
      "2  82.691460    0.600324\n",
      "3  84.681871    0.649207\n",
      "4  70.050274    0.696568\n"
     ]
    }
   ],
   "source": [
    "# Generate example electricity price data (c_t)\n",
    "np.random.seed(456)\n",
    "price_data = np.random.uniform(low=20, high=100, size=100)  # Simulated prices over 100 time steps\n",
    "\n",
    "# Generate example EV usage probability data (p_t)\n",
    "usage_prob_data = np.sin(np.linspace(0, 10, 100))  # Simulated usage probability (cyclic)\n",
    "usage_prob_data = (usage_prob_data + 1) / 2  # Normalize to [0, 1]\n",
    "\n",
    "# Convert to pandas DataFrame (optional)\n",
    "data = pd.DataFrame({\"Price\": price_data, \"Usage_Prob\": usage_prob_data})\n",
    "print(data.head())\n"
   ]
  },
  {
   "cell_type": "code",
   "execution_count": 4,
   "metadata": {},
   "outputs": [
    {
     "ename": "IndexError",
     "evalue": "only integers, slices (`:`), ellipsis (`...`), numpy.newaxis (`None`) and integer or boolean arrays are valid indices",
     "output_type": "error",
     "traceback": [
      "\u001b[1;31m---------------------------------------------------------------------------\u001b[0m",
      "\u001b[1;31mIndexError\u001b[0m                                Traceback (most recent call last)",
      "Cell \u001b[1;32mIn[4], line 2\u001b[0m\n\u001b[0;32m      1\u001b[0m \u001b[38;5;66;03m# Initialize the environment with the example data\u001b[39;00m\n\u001b[1;32m----> 2\u001b[0m env \u001b[38;5;241m=\u001b[39m \u001b[43mEVChargingEnv\u001b[49m\u001b[43m(\u001b[49m\u001b[43mprice_data\u001b[49m\u001b[38;5;241;43m=\u001b[39;49m\u001b[43mprice_data\u001b[49m\u001b[43m)\u001b[49m\n\u001b[0;32m      4\u001b[0m \u001b[38;5;66;03m# Check that the environment follows the OpenAI Gym API\u001b[39;00m\n\u001b[0;32m      5\u001b[0m check_env(env, warn\u001b[38;5;241m=\u001b[39m\u001b[38;5;28;01mTrue\u001b[39;00m)\n",
      "File \u001b[1;32mc:\\Users\\victo\\Documents\\Berkeley\\Academic\\Capstone\\RLforEVs\\EVChargingEnv.py:20\u001b[0m, in \u001b[0;36mEVChargingEnv.__init__\u001b[1;34m(self, price_data)\u001b[0m\n\u001b[0;32m     17\u001b[0m \u001b[38;5;28mself\u001b[39m\u001b[38;5;241m.\u001b[39mnp_random \u001b[38;5;241m=\u001b[39m \u001b[38;5;28;01mNone\u001b[39;00m  \u001b[38;5;66;03m# For random number generation\u001b[39;00m\n\u001b[0;32m     19\u001b[0m \u001b[38;5;66;03m# Time parameters for the daily simulation\u001b[39;00m\n\u001b[1;32m---> 20\u001b[0m \u001b[38;5;28mself\u001b[39m\u001b[38;5;241m.\u001b[39mstart_time \u001b[38;5;241m=\u001b[39m \u001b[43mprice_data\u001b[49m\u001b[43m[\u001b[49m\u001b[38;5;124;43m'\u001b[39;49m\u001b[38;5;124;43mTimestamp\u001b[39;49m\u001b[38;5;124;43m'\u001b[39;49m\u001b[43m]\u001b[49m\u001b[38;5;241m.\u001b[39miloc[\u001b[38;5;241m0\u001b[39m]\n\u001b[0;32m     21\u001b[0m \u001b[38;5;28mself\u001b[39m\u001b[38;5;241m.\u001b[39mcurrent_time \u001b[38;5;241m=\u001b[39m \u001b[38;5;28mself\u001b[39m\u001b[38;5;241m.\u001b[39mstart_time\n\u001b[0;32m     22\u001b[0m \u001b[38;5;28mself\u001b[39m\u001b[38;5;241m.\u001b[39mtime_step \u001b[38;5;241m=\u001b[39m \u001b[38;5;241m0\u001b[39m\n",
      "\u001b[1;31mIndexError\u001b[0m: only integers, slices (`:`), ellipsis (`...`), numpy.newaxis (`None`) and integer or boolean arrays are valid indices"
     ]
    }
   ],
   "source": [
    "# Initialize the environment with the example data\n",
    "env = EVChargingEnv(price_data=price_data)\n",
    "\n",
    "# Check that the environment follows the OpenAI Gym API\n",
    "check_env(env, warn=True)\n",
    "\n",
    "# Train the DQN agent\n",
    "model = DQN(\"MlpPolicy\", env, verbose=1)\n",
    "model.learn(total_timesteps=10000)\n",
    "\n",
    "# Save the model\n",
    "model.save(\"ev_charging_dqn\")\n"
   ]
  },
  {
   "cell_type": "code",
   "execution_count": 5,
   "metadata": {},
   "outputs": [
    {
     "name": "stdout",
     "output_type": "stream",
     "text": [
      "Time: 1, Battery Level: 0.4, Price: 33.04534265490852\n",
      "Time: 2, Battery Level: 0.30000000000000004, Price: 82.69146045129821\n",
      "Time: 3, Battery Level: 0.20000000000000004, Price: 84.6818711073183\n",
      "Time: 4, Battery Level: 0.2, Price: 70.05027422586366\n",
      "Time: 5, Battery Level: 0.2, Price: 68.3290906620339\n",
      "Time: 6, Battery Level: 0.2, Price: 90.85615224919309\n",
      "Time: 7, Battery Level: 0.2, Price: 80.72939742663866\n",
      "Time: 8, Battery Level: 0.2, Price: 34.48840449129953\n",
      "Time: 9, Battery Level: 0.2, Price: 32.013545291427114\n",
      "Time: 10, Battery Level: 0.30000000000000004, Price: 54.85434969151666\n",
      "Time: 11, Battery Level: 0.20000000000000004, Price: 50.82180421200717\n",
      "Time: 12, Battery Level: 0.2, Price: 66.05678958461993\n",
      "Time: 13, Battery Level: 0.2, Price: 31.68725555653066\n",
      "Time: 14, Battery Level: 0.2, Price: 74.9274414964124\n",
      "Time: 15, Battery Level: 0.2, Price: 57.5043204048983\n",
      "Time: 16, Battery Level: 0.2, Price: 65.59993181327715\n",
      "Time: 17, Battery Level: 0.2, Price: 71.65608118438828\n",
      "Time: 18, Battery Level: 0.2, Price: 77.867251526908\n",
      "Time: 19, Battery Level: 0.2, Price: 74.45366079836487\n",
      "Time: 20, Battery Level: 0.2, Price: 34.4733711523034\n",
      "Time: 21, Battery Level: 0.2, Price: 29.452678679717074\n",
      "Time: 22, Battery Level: 0.30000000000000004, Price: 39.418751642749456\n",
      "Time: 23, Battery Level: 0.20000000000000004, Price: 20.654673289714456\n",
      "Time: 24, Battery Level: 0.2, Price: 48.80547981690679\n",
      "Time: 25, Battery Level: 0.2, Price: 31.683339624493286\n",
      "Time: 26, Battery Level: 0.2, Price: 63.417844562507504\n",
      "Time: 27, Battery Level: 0.2, Price: 88.56827501984193\n",
      "Time: 28, Battery Level: 0.2, Price: 36.01697316678993\n",
      "Time: 29, Battery Level: 0.2, Price: 30.77067669609867\n",
      "Time: 30, Battery Level: 0.2, Price: 37.087484851893564\n",
      "Time: 31, Battery Level: 0.2, Price: 97.85245230743709\n",
      "Time: 32, Battery Level: 0.2, Price: 88.6663829537941\n",
      "Time: 33, Battery Level: 0.2, Price: 62.702825752770714\n",
      "Time: 34, Battery Level: 0.2, Price: 54.75668727912978\n",
      "Time: 35, Battery Level: 0.2, Price: 34.97540532033949\n",
      "Time: 36, Battery Level: 0.2, Price: 43.06207839646539\n",
      "Time: 37, Battery Level: 0.2, Price: 70.17338648716749\n",
      "Time: 38, Battery Level: 0.2, Price: 48.456469721266686\n",
      "Time: 39, Battery Level: 0.2, Price: 78.35643314973453\n",
      "Time: 40, Battery Level: 0.2, Price: 64.55905866144735\n",
      "Time: 41, Battery Level: 0.2, Price: 95.39119624981186\n",
      "Time: 42, Battery Level: 0.30000000000000004, Price: 32.28365064173162\n",
      "Time: 43, Battery Level: 0.20000000000000004, Price: 91.6980474308805\n",
      "Time: 44, Battery Level: 0.2, Price: 34.24277367657946\n",
      "Time: 45, Battery Level: 0.2, Price: 67.54100143021488\n",
      "Time: 46, Battery Level: 0.2, Price: 23.41037022168548\n",
      "Time: 47, Battery Level: 0.2, Price: 72.27124379117906\n",
      "Time: 48, Battery Level: 0.2, Price: 49.33756403407035\n",
      "Time: 49, Battery Level: 0.2, Price: 83.64558178579705\n",
      "Time: 50, Battery Level: 0.2, Price: 20.872563738186464\n",
      "Time: 51, Battery Level: 0.2, Price: 58.42216311454745\n",
      "Time: 52, Battery Level: 0.2, Price: 27.744810451030332\n",
      "Time: 53, Battery Level: 0.2, Price: 30.245835552029384\n",
      "Time: 54, Battery Level: 0.2, Price: 85.53793663513625\n",
      "Time: 55, Battery Level: 0.2, Price: 68.27086274076449\n",
      "Time: 56, Battery Level: 0.2, Price: 97.27009666013765\n",
      "Time: 57, Battery Level: 0.30000000000000004, Price: 75.45606217767354\n",
      "Time: 58, Battery Level: 0.20000000000000004, Price: 98.03664756343358\n",
      "Time: 59, Battery Level: 0.2, Price: 61.38373905715309\n",
      "Time: 60, Battery Level: 0.2, Price: 61.9899724709032\n",
      "Time: 61, Battery Level: 0.2, Price: 29.435429902523467\n",
      "Time: 62, Battery Level: 0.2, Price: 46.5441110917249\n",
      "Time: 63, Battery Level: 0.2, Price: 41.79331468762851\n",
      "Time: 64, Battery Level: 0.2, Price: 89.58886701634812\n",
      "Time: 65, Battery Level: 0.2, Price: 26.95187174966388\n",
      "Time: 66, Battery Level: 0.2, Price: 58.28172474240525\n",
      "Time: 67, Battery Level: 0.2, Price: 87.02318681396557\n",
      "Time: 68, Battery Level: 0.2, Price: 60.783039716656816\n",
      "Time: 69, Battery Level: 0.2, Price: 23.867678567343702\n",
      "Time: 70, Battery Level: 0.2, Price: 69.06057333003585\n",
      "Time: 71, Battery Level: 0.2, Price: 52.66569798453364\n",
      "Time: 72, Battery Level: 0.2, Price: 77.00983514264256\n",
      "Time: 73, Battery Level: 0.2, Price: 27.08668451110568\n",
      "Time: 74, Battery Level: 0.2, Price: 50.54753228953268\n",
      "Time: 75, Battery Level: 0.2, Price: 21.9115860908354\n",
      "Time: 76, Battery Level: 0.2, Price: 50.82437679586598\n",
      "Time: 77, Battery Level: 0.2, Price: 31.368709123198304\n",
      "Time: 78, Battery Level: 0.2, Price: 37.805803197763524\n",
      "Time: 79, Battery Level: 0.2, Price: 83.50503411952212\n",
      "Time: 80, Battery Level: 0.2, Price: 77.44671790703387\n",
      "Time: 81, Battery Level: 0.2, Price: 58.69619847284932\n",
      "Time: 82, Battery Level: 0.2, Price: 98.41843867471228\n",
      "Time: 83, Battery Level: 0.2, Price: 80.90517341816789\n",
      "Time: 84, Battery Level: 0.2, Price: 27.26486581675364\n",
      "Time: 85, Battery Level: 0.2, Price: 62.983755168415826\n",
      "Time: 86, Battery Level: 0.2, Price: 74.23472285140079\n",
      "Time: 87, Battery Level: 0.2, Price: 79.21444781009257\n",
      "Time: 88, Battery Level: 0.2, Price: 70.2045268134208\n",
      "Time: 89, Battery Level: 0.2, Price: 90.66270419030897\n",
      "Time: 90, Battery Level: 0.2, Price: 83.98883800282744\n",
      "Time: 91, Battery Level: 0.2, Price: 64.31542308870185\n",
      "Time: 92, Battery Level: 0.2, Price: 89.64172834869827\n",
      "Time: 93, Battery Level: 0.2, Price: 52.73637455782436\n",
      "Time: 94, Battery Level: 0.2, Price: 25.377366830923318\n",
      "Time: 95, Battery Level: 0.2, Price: 31.29188560924069\n",
      "Time: 96, Battery Level: 0.2, Price: 99.79890089278152\n",
      "Time: 97, Battery Level: 0.2, Price: 35.751621200898924\n",
      "Time: 98, Battery Level: 0.2, Price: 91.030769927552\n",
      "Time: 99, Battery Level: 0.2, Price: 71.82774043239286\n",
      "Time: 1, Battery Level: 0.4, Price: 33.04534265490852\n"
     ]
    }
   ],
   "source": [
    "# Load the trained model\n",
    "model = DQN.load(\"ev_charging_dqn\")\n",
    "\n",
    "# After training the model, run the environment with the trained model\n",
    "# Reset the environment\n",
    "state, _ = env.reset()\n",
    "\n",
    "for _ in range(100):\n",
    "    # Predict the action based on the state\n",
    "    action, _states = model.predict(state)\n",
    "    \n",
    "    # Perform the action\n",
    "    state, reward, done, truncated, info = env.step(action)\n",
    "    \n",
    "    # Render the environment\n",
    "    env.render()\n",
    "\n",
    "    # If episode is finished, reset the environment\n",
    "    if done or truncated:\n",
    "        state, _ = env.reset()"
   ]
  }
 ],
 "metadata": {
  "kernelspec": {
   "display_name": "ML",
   "language": "python",
   "name": "python3"
  },
  "language_info": {
   "codemirror_mode": {
    "name": "ipython",
    "version": 3
   },
   "file_extension": ".py",
   "mimetype": "text/x-python",
   "name": "python",
   "nbconvert_exporter": "python",
   "pygments_lexer": "ipython3",
   "version": "3.11.7"
  }
 },
 "nbformat": 4,
 "nbformat_minor": 2
}
